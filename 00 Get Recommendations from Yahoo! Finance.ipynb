{
 "metadata": {
  "name": ""
 },
 "nbformat": 3,
 "nbformat_minor": 0,
 "worksheets": [
  {
   "cells": [
    {
     "cell_type": "code",
     "collapsed": false,
     "input": [
      "# import urllib2 as ul\n",
      "# import requests\n",
      "import csv\n",
      "# from lxml import html\n",
      "from BeautifulSoup import BeautifulSoup as bs\n",
      "import scipy.io as sio\n",
      "\n",
      "YAHOO_UPDOWN_URL = 'http://finance.yahoo.com/q/ud?s='"
     ],
     "language": "python",
     "metadata": {},
     "outputs": [],
     "prompt_number": 2
    },
    {
     "cell_type": "heading",
     "level": 3,
     "metadata": {},
     "source": [
      "Here's a one-off for getting data on a single ticker"
     ]
    },
    {
     "cell_type": "code",
     "collapsed": false,
     "input": [
      "tick = 'ZQK'\n",
      "page = requests.get(YAHOO_UPDOWN_URL + tick)\n",
      "soup = bs(page.text)\n",
      "table = soup.find(lambda tag: tag.name=='table' and \n",
      "                              tag.has_key('class') and \n",
      "                              tag['class']==\"yfnc_datamodoutline1\")\n",
      "headers = table.findAll('th',{'class':'yfnc_tablehead1'})\n",
      "data = table.findAll('td',{'class':'yfnc_tabledata1'})\n",
      "it = iter([ d.text.strip() for d in data ]) # create an iterator over the textual data\n",
      "csvrows = zip([tick]*(1+len(data)/5),it,it,it,it,it) # each call to it returns the next data entry, so this zip will create a 5-tuple array"
     ],
     "language": "python",
     "metadata": {},
     "outputs": [],
     "prompt_number": 37
    },
    {
     "cell_type": "code",
     "collapsed": false,
     "input": [
      "len(data)"
     ],
     "language": "python",
     "metadata": {},
     "outputs": [
      {
       "metadata": {},
       "output_type": "pyout",
       "prompt_number": 38,
       "text": [
        "460"
       ]
      }
     ],
     "prompt_number": 38
    },
    {
     "cell_type": "heading",
     "level": 3,
     "metadata": {},
     "source": [
      "And here's a loop for getting data on all the tickers from 'tickers.txt' and writing them to 'stocks.csv'"
     ]
    },
    {
     "cell_type": "raw",
     "metadata": {},
     "source": []
    },
    {
     "cell_type": "code",
     "collapsed": false,
     "input": [
      "with open('tickers.txt','r') as f:\n",
      "    lines = f.readlines()\n",
      "\n",
      "tickers = [l.strip() for l in lines if l.strip() != '']\n",
      "# tickers"
     ],
     "language": "python",
     "metadata": {},
     "outputs": [],
     "prompt_number": 33
    },
    {
     "cell_type": "raw",
     "metadata": {},
     "source": []
    },
    {
     "cell_type": "code",
     "collapsed": false,
     "input": [
      "out = open('stocks.csv','a')\n",
      "csvout = csv.writer(out)\n",
      "\n",
      "headers = None\n",
      "for tick in tickers:\n",
      "    print tick\n",
      "    try:\n",
      "        page = requests.get(YAHOO_UPDOWN_URL + tick)\n",
      "    except Exception as inst:\n",
      "        print inst\n",
      "        continue\n",
      "    soup = bs(page.text)\n",
      "\n",
      "    table = soup.find(lambda tag: tag.name=='table' and \n",
      "                                  tag.has_key('class') and \n",
      "                                  tag['class']==\"yfnc_datamodoutline1\")\n",
      "    if table == None:\n",
      "        print \"No data found\"\n",
      "        continue\n",
      "        \n",
      "    if headers == None:\n",
      "        headers = table.findAll('th',{'class':'yfnc_tablehead1'})\n",
      "        #csvout.writerow([u'Ticker'] + [ h.text for h in headers]) # concat 'Ticker' as the first column\n",
      "        \n",
      "    data = table.findAll('td',{'class':'yfnc_tabledata1'})    \n",
      "    print len(data)\n",
      "    \n",
      "    it = iter([ d.text.strip() for d in data ]) # create an iterator over the textual data\n",
      "    csvrows = zip([tick]*(1+len(data)/5),it,it,it,it,it) # each call to it returns the next data entry, so this zip will create a 5-tuple array\n",
      "    print len(csvrows)\n",
      "    \n",
      "    #for row in csvrows:\n",
      "    #    csvout.writerow(row)\n",
      "    csvout.writerows(csvrows)\n",
      "\n",
      "out.flush()\n",
      "out.close()\n",
      "# csvout.close()        \n",
      "# close(out)"
     ],
     "language": "python",
     "metadata": {},
     "outputs": [
      {
       "output_type": "stream",
       "stream": "stdout",
       "text": [
        "ZQK\n",
        "460"
       ]
      },
      {
       "output_type": "stream",
       "stream": "stdout",
       "text": [
        "\n",
        "92\n",
        "ZTR\n",
        "0"
       ]
      },
      {
       "output_type": "stream",
       "stream": "stdout",
       "text": [
        "\n",
        "0\n",
        "ZTS\n",
        "20"
       ]
      },
      {
       "output_type": "stream",
       "stream": "stdout",
       "text": [
        "\n",
        "4\n",
        "ZX\n",
        "5"
       ]
      },
      {
       "output_type": "stream",
       "stream": "stdout",
       "text": [
        "\n",
        "1\n"
       ]
      }
     ],
     "prompt_number": 49
    },
    {
     "cell_type": "raw",
     "metadata": {},
     "source": []
    },
    {
     "cell_type": "code",
     "collapsed": false,
     "input": [
      "with open('stocks.csv','r') as infile:\n",
      "    csvin = csv.reader(infile)\n",
      "    data = map(tuple,csvin)"
     ],
     "language": "python",
     "metadata": {},
     "outputs": [],
     "prompt_number": 65
    },
    {
     "cell_type": "raw",
     "metadata": {},
     "source": []
    },
    {
     "cell_type": "code",
     "collapsed": false,
     "input": [
      "data[len(data)-1]"
     ],
     "language": "python",
     "metadata": {},
     "outputs": [
      {
       "metadata": {},
       "output_type": "pyout",
       "prompt_number": 70,
       "text": [
        "('ZX', '21-Jun-11', 'Oppenheimer', 'Initiated', '', 'Outperform')"
       ]
      }
     ],
     "prompt_number": 70
    },
    {
     "cell_type": "raw",
     "metadata": {},
     "source": []
    },
    {
     "cell_type": "code",
     "collapsed": false,
     "input": [
      "sio.savemat('stocks.mat',{'data':data},do_compression=True)"
     ],
     "language": "python",
     "metadata": {},
     "outputs": [],
     "prompt_number": 72
    }
   ],
   "metadata": {}
  }
 ]
}