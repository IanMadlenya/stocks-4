{
 "metadata": {
  "name": ""
 },
 "nbformat": 3,
 "nbformat_minor": 0,
 "worksheets": [
  {
   "cells": [
    {
     "cell_type": "code",
     "collapsed": false,
     "input": [
      "import requests\n",
      "import csv\n",
      "from BeautifulSoup import BeautifulSoup as bs\n",
      "import scipy.io as sio\n",
      "\n",
      "MARKETBEAT_NASDAQ_URL = 'http://www.marketbeat.com/stocks/NASDAQ/{0}'\n",
      "MARKETBEAT_NASDAQ_MOST_RECENT_URL = 'http://www.marketbeat.com/stocks/NASDAQ/{0}/?MostRecent=1'"
     ],
     "language": "python",
     "metadata": {},
     "outputs": [],
     "prompt_number": 1
    },
    {
     "cell_type": "heading",
     "level": 3,
     "metadata": {},
     "source": [
      "Here's a one-off for getting data on a single ticker"
     ]
    },
    {
     "cell_type": "code",
     "collapsed": false,
     "input": [
      "def get_ranking_csvrows_from_url(url,headers=None):\n",
      "    try:\n",
      "        page = requests.get(url)\n",
      "    except Exception as inst:\n",
      "        raise inst\n",
      "    soup = bs(page.text)\n",
      "\n",
      "    table = soup.find(lambda tag: tag.name == 'table' and\n",
      "                                  tag.has_key('id') and\n",
      "                                  tag['id'] == 'ratingstable' and\n",
      "                                  tag.has_key('class') and \n",
      "                                  tag['class'] == \"tablesorter\")\n",
      "    if table == None:\n",
      "        raise Exception('No table in page')\n",
      "        \n",
      "    cur_headers = table.findAll('th') #,{'class':'header'})\n",
      "    if cur_headers == None: \n",
      "        raise Exception('Headers not found')\n",
      "\n",
      "    cur_headers = [ h.text.strip() for h in cur_headers ]\n",
      "    cur_headers.insert(0,u'Ticker')\n",
      "\n",
      "    if headers != None and headers != cur_headers:\n",
      "        raise Exception('Wrong headers found', str(cur_headers))\n",
      "    \n",
      "    #csvout.writerow([u'Ticker'] + [ h.text for h in headers]) # concat 'Ticker' as the first column\n",
      "        \n",
      "#     %debug\n",
      "    data = table.findAll('td') #,{'class':'yfnc_tabledata1'})\n",
      "#     print shape(data)\n",
      "    \n",
      "    it = iter([ d.text.strip() for d in data ]) # create an iterator over the textual data\n",
      "    csvrows = zip([tick]*(1+len(data)/5),it,it,it,it,it,it) # each call to it returns the next data entry, so this zip will create a 6-tuple array\n",
      "#     print shape(csvrows)\n",
      "\n",
      "    # dirty trick (only return 2 parameters if we don't know what we're looking for):\n",
      "    if headers == None:\n",
      "        return csvrows, cur_headers\n",
      "    else:\n",
      "        return csvrows"
     ],
     "language": "python",
     "metadata": {},
     "outputs": [],
     "prompt_number": 2
    },
    {
     "cell_type": "code",
     "collapsed": false,
     "input": [
      "tick = 'INTC'\n",
      "csvrows,headers = get_ranking_csvrows_from_url(MARKETBEAT_NASDAQ_URL.format(tick))"
     ],
     "language": "python",
     "metadata": {},
     "outputs": [],
     "prompt_number": 3
    },
    {
     "cell_type": "code",
     "collapsed": false,
     "input": [
      "headers"
     ],
     "language": "python",
     "metadata": {},
     "outputs": [
      {
       "metadata": {},
       "output_type": "pyout",
       "prompt_number": 4,
       "text": [
        "[u'Ticker',\n",
        " u'Date',\n",
        " u'Firm',\n",
        " u'Action',\n",
        " u'Rating',\n",
        " u'Price Target',\n",
        " u'Actions']"
       ]
      }
     ],
     "prompt_number": 4
    },
    {
     "cell_type": "code",
     "collapsed": false,
     "input": [
      "# THIS SHOULD THROW AN EXCEPTION\n",
      "tick = 'AAME'\n",
      "try:\n",
      "    csvrows = get_ranking_csvrows_from_url(MARKETBEAT_NASDAQ_URL.format(tick),headers)\n",
      "except Exception as e:\n",
      "    print 'SUCCESS'\n",
      "    print e\n",
      "else:\n",
      "    print 'FAIL'"
     ],
     "language": "python",
     "metadata": {},
     "outputs": [
      {
       "output_type": "stream",
       "stream": "stdout",
       "text": [
        "SUCCESS\n",
        "('Wrong headers found', \"[u'Ticker', u'Date', u'Quarter', u'Consensus Estimate', u'Actual EPS', u'Revenue Estimate', u'Actual Revenue', u'Release Link', u'Conference Call', u'Actions']\")\n"
       ]
      }
     ],
     "prompt_number": 5
    },
    {
     "cell_type": "code",
     "collapsed": false,
     "input": [
      "print \"\\t\".join(headers)\n",
      "print \"\\t\".join(csvrows[0])"
     ],
     "language": "python",
     "metadata": {},
     "outputs": [
      {
       "output_type": "stream",
       "stream": "stdout",
       "text": [
        "Ticker\tDate\tFirm\tAction\tRating\tPrice Target\tActions\n",
        "INTC\t6/15/2015\tDeutsche Bank\tReiterated Rating\tBuy\t$37.00\t&nbsp;&nbsp;&nbsp;&nbsp;\n"
       ]
      }
     ],
     "prompt_number": 6
    },
    {
     "cell_type": "code",
     "collapsed": false,
     "input": [
      "print shape(csvrows)\n",
      "print shape(headers)\n",
      "print \"\\t\".join(csvrows[0])\n",
      "print \"\\t\".join(csvrows[1])\n",
      "\n",
      "# the last cell is unneeded html code, we'll get rid of it later"
     ],
     "language": "python",
     "metadata": {},
     "outputs": [
      {
       "output_type": "stream",
       "stream": "stdout",
       "text": [
        "(242, 7)\n",
        "(7,)\n",
        "INTC\t6/15/2015\tDeutsche Bank\tReiterated Rating\tBuy\t$37.00\t&nbsp;&nbsp;&nbsp;&nbsp;\n",
        "INTC\t6/12/2015\tGoldman Sachs\tReiterated Rating\tSell\t$23.00\t&nbsp;&nbsp;&nbsp;&nbsp;\n"
       ]
      }
     ],
     "prompt_number": 7
    },
    {
     "cell_type": "heading",
     "level": 3,
     "metadata": {},
     "source": [
      "And here's a loop for getting data on all the tickers from 'nasdaq.txt' and writing them to 'marketbeat_nasdaq.csv'"
     ]
    },
    {
     "cell_type": "raw",
     "metadata": {},
     "source": [
      "First line up all the tickers that we want to extract"
     ]
    },
    {
     "cell_type": "code",
     "collapsed": false,
     "input": [
      "with open('NASDAQ.txt','r') as f:\n",
      "    lines = f.readlines()\n",
      "\n",
      "tickers = [l.strip() for l in lines if l.strip() != '']\n",
      "# tickers"
     ],
     "language": "python",
     "metadata": {},
     "outputs": [],
     "prompt_number": 8
    },
    {
     "cell_type": "raw",
     "metadata": {},
     "source": [
      "Then extract everything that's needed"
     ]
    },
    {
     "cell_type": "code",
     "collapsed": false,
     "input": [
      "out = open('data/marketbeat_nasdaq.csv','a')\n",
      "csvout = csv.writer(out)\n",
      "\n",
      "headers = None\n",
      "for i,tick in enumerate(tickers[1:]):\n",
      "    tick = tick.split('\\t')[0]\n",
      "    print i,tick,',',\n",
      "    try:\n",
      "        if headers == None:\n",
      "            csvrows,headers = get_ranking_csvrows_from_url(MARKETBEAT_NASDAQ_URL.format(tick))\n",
      "        else:\n",
      "            csvrows = get_ranking_csvrows_from_url(MARKETBEAT_NASDAQ_URL.format(tick),headers)\n",
      "        csvrows = [ r[:-1] for r in csvrows ] # get rid of the last element in every tuple\n",
      "    except Exception as inst:\n",
      "        print inst\n",
      "        continue\n",
      "\n",
      "    csvout.writerows(csvrows)\n",
      "\n",
      "out.flush()\n",
      "out.close()\n",
      "# csvout.close()        \n",
      "# close(out)"
     ],
     "language": "python",
     "metadata": {},
     "outputs": [
      {
       "output_type": "stream",
       "stream": "stdout",
       "text": [
        "0 AAIT , "
       ]
      },
      {
       "output_type": "stream",
       "stream": "stdout",
       "text": [
        "No table in page\n",
        "1 AAL , "
       ]
      },
      {
       "output_type": "stream",
       "stream": "stdout",
       "text": [
        "2 AAME , "
       ]
      },
      {
       "output_type": "stream",
       "stream": "stdout",
       "text": [
        "('Wrong headers found', \"[u'Ticker', u'Date', u'Quarter', u'Consensus Estimate', u'Actual EPS', u'Revenue Estimate', u'Actual Revenue', u'Release Link', u'Conference Call', u'Actions']\")\n",
        "3 AAOI , "
       ]
      },
      {
       "output_type": "stream",
       "stream": "stdout",
       "text": [
        "4 AAON , "
       ]
      },
      {
       "output_type": "stream",
       "stream": "stdout",
       "text": [
        "5 AAPC , "
       ]
      },
      {
       "output_type": "stream",
       "stream": "stdout",
       "text": [
        "No table in page\n",
        "6 AAPL , "
       ]
      },
      {
       "output_type": "stream",
       "stream": "stdout",
       "text": [
        "7 AAVL , "
       ]
      },
      {
       "output_type": "stream",
       "stream": "stdout",
       "text": [
        "8 AAWW , "
       ]
      },
      {
       "output_type": "stream",
       "stream": "stdout",
       "text": [
        "9 AAXJ , "
       ]
      },
      {
       "output_type": "stream",
       "stream": "stdout",
       "text": [
        "No table in page\n",
        "10 ABAC , "
       ]
      },
      {
       "output_type": "stream",
       "stream": "stdout",
       "text": [
        "('Wrong headers found', \"[u'Ticker', u'Date', u'Quarter', u'Consensus Estimate', u'Actual EPS', u'Revenue Estimate', u'Actual Revenue', u'Release Link', u'Conference Call', u'Actions']\")\n",
        "11 ABAX , "
       ]
      },
      {
       "output_type": "stream",
       "stream": "stdout",
       "text": [
        "12 ABCB , "
       ]
      },
      {
       "output_type": "stream",
       "stream": "stdout",
       "text": [
        "13 ABCD , "
       ]
      },
      {
       "output_type": "stream",
       "stream": "stdout",
       "text": [
        "('Wrong headers found', \"[u'Ticker', u'Date', u'Quarter', u'Consensus Estimate', u'Actual EPS', u'Revenue Estimate', u'Actual Revenue', u'Release Link', u'Conference Call', u'Actions']\")\n",
        "14 ABCO , "
       ]
      },
      {
       "output_type": "stream",
       "stream": "stdout",
       "text": [
        "15 ABCW , "
       ]
      },
      {
       "output_type": "stream",
       "stream": "stdout",
       "text": [
        "16 ABDC , "
       ]
      },
      {
       "output_type": "stream",
       "stream": "stdout",
       "text": [
        "17 ABGB , "
       ]
      },
      {
       "output_type": "stream",
       "stream": "stdout",
       "text": [
        "18 ABIO , "
       ]
      },
      {
       "output_type": "stream",
       "stream": "stdout",
       "text": [
        "19 ABMD , "
       ]
      },
      {
       "output_type": "stream",
       "stream": "stdout",
       "text": [
        "20 ABTL , "
       ]
      },
      {
       "output_type": "stream",
       "stream": "stdout",
       "text": [
        "21 ABY , "
       ]
      },
      {
       "output_type": "stream",
       "stream": "stdout",
       "text": [
        "No table in page\n",
        "22 ACAD , "
       ]
      },
      {
       "output_type": "stream",
       "stream": "stdout",
       "text": [
        "23 ACAS , "
       ]
      },
      {
       "output_type": "stream",
       "stream": "stdout",
       "text": [
        "24 ACAT , "
       ]
      },
      {
       "output_type": "stream",
       "stream": "stdout",
       "text": [
        "25 ACET , "
       ]
      },
      {
       "output_type": "stream",
       "stream": "stdout",
       "text": [
        "26 ACFC , "
       ]
      },
      {
       "output_type": "stream",
       "stream": "stdout",
       "text": [
        "27 ACFN , "
       ]
      },
      {
       "output_type": "stream",
       "stream": "stdout",
       "text": [
        "28 ACGL , "
       ]
      },
      {
       "output_type": "stream",
       "stream": "stdout",
       "text": [
        "29 ACHC , "
       ]
      },
      {
       "output_type": "stream",
       "stream": "stdout",
       "text": [
        "30 ACHN , "
       ]
      },
      {
       "output_type": "stream",
       "stream": "stdout",
       "text": [
        "31 ACIW , "
       ]
      },
      {
       "output_type": "stream",
       "stream": "stdout",
       "text": [
        "32 ACLS , "
       ]
      },
      {
       "output_type": "stream",
       "stream": "stdout",
       "text": [
        "33 ACNB , "
       ]
      },
      {
       "output_type": "stream",
       "stream": "stdout",
       "text": [
        "('Wrong headers found', \"[u'Ticker', u'Announced', u'Period', u'Amount', u'Yield', u'Ex-Dividend Date', u'Record Date', u'Payable Date', u'Share']\")\n",
        "34 ACOR , "
       ]
      },
      {
       "output_type": "stream",
       "stream": "stdout",
       "text": [
        "35 ACPW , "
       ]
      }
     ],
     "prompt_number": "*"
    },
    {
     "cell_type": "raw",
     "metadata": {},
     "source": []
    },
    {
     "cell_type": "code",
     "collapsed": false,
     "input": [
      "with open('stocks.csv','r') as infile:\n",
      "    csvin = csv.reader(infile)\n",
      "    data = map(tuple,csvin)"
     ],
     "language": "python",
     "metadata": {},
     "outputs": [],
     "prompt_number": 65
    },
    {
     "cell_type": "raw",
     "metadata": {},
     "source": []
    },
    {
     "cell_type": "code",
     "collapsed": false,
     "input": [
      "data[len(data)-1]"
     ],
     "language": "python",
     "metadata": {},
     "outputs": [
      {
       "metadata": {},
       "output_type": "pyout",
       "prompt_number": 70,
       "text": [
        "('ZX', '21-Jun-11', 'Oppenheimer', 'Initiated', '', 'Outperform')"
       ]
      }
     ],
     "prompt_number": 70
    }
   ],
   "metadata": {}
  }
 ]
}